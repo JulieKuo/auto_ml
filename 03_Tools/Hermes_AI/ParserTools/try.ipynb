{
 "cells": [
  {
   "cell_type": "code",
   "execution_count": 1,
   "metadata": {},
   "outputs": [
    {
     "name": "stdout",
     "output_type": "stream",
     "text": [
      "python parser_tool.py \"ewogICAgImZpbGVOYW1lIjogImxvbmdfY2hlbmcuY3N2IiwKICAgICJ1c2VySWQiOiAic2VydnRlY2guYWlfanVsaWUiLAogICAgImdyb3VwSWQiOiAic2VydnRlY2guYWkiLAogICAgInByb2plY3RJZCI6ICJwMDAyNDUiLAogICAgImpvYl9pZCI6ICIyMDIzMTExNDA2MzcxODY0NyIKfQ==\"\n"
     ]
    }
   ],
   "source": [
    "import json, base64\n",
    "s = {\n",
    "   \"fileName\": \"long_cheng.csv\",\n",
    "   \"userId\": \"servtech.ai_julie\",\n",
    "   \"groupId\": \"servtech.ai\",\n",
    "   \"projectId\": \"p00245\",\n",
    "   \"job_id\": \"20231114063718647\"\n",
    "}\n",
    "s = json.dumps(s, indent = 4)\n",
    "\n",
    "b = s.encode(\"UTF-8\")\n",
    "e = base64.b64encode(b)\n",
    "argv = e.decode(\"UTF-8\")\n",
    "\n",
    "print(f'python parser_tool.py \"{argv}\"')"
   ]
  },
  {
   "cell_type": "code",
   "execution_count": null,
   "metadata": {},
   "outputs": [],
   "source": []
  }
 ],
 "metadata": {
  "kernelspec": {
   "display_name": ".venv",
   "language": "python",
   "name": "python3"
  },
  "language_info": {
   "codemirror_mode": {
    "name": "ipython",
    "version": 3
   },
   "file_extension": ".py",
   "mimetype": "text/x-python",
   "name": "python",
   "nbconvert_exporter": "python",
   "pygments_lexer": "ipython3",
   "version": "3.8.10"
  },
  "orig_nbformat": 4,
  "vscode": {
   "interpreter": {
    "hash": "6a07fcf0145f94b3f971c13d061528107de20ab7b779375f96dab9bbac6a85db"
   }
  }
 },
 "nbformat": 4,
 "nbformat_minor": 2
}
