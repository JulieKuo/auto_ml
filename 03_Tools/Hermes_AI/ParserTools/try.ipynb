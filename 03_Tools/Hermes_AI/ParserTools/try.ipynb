{
 "cells": [
  {
   "cell_type": "code",
   "execution_count": 1,
   "metadata": {},
   "outputs": [
    {
     "name": "stdout",
     "output_type": "stream",
     "text": [
      "ewogICAgImZpbGVOYW1lIjogInRyYWluLmNzdiIsCiAgICAidXNlcklkIjogInNlcnZ0ZWNoLmp1bGllIiwKICAgICJncm91cElkIjogInNlcnZ0ZWNoIiwKICAgICJwcm9qZWN0SWQiOiAicDAwMDIxIiwKICAgICJqb2JfaWQiOiAiMjAyMDExMTcxNzE0NDI1NjEiCn0=\n"
     ]
    }
   ],
   "source": [
    "import json, base64\n",
    "s = {\n",
    "   \"fileName\": \"train.csv\",\n",
    "   \"userId\": \"servtech.julie\",\n",
    "   \"groupId\": \"servtech\",\n",
    "   \"projectId\": \"p00021\",\n",
    "   \"job_id\": \"20201117171442561\"\n",
    "}\n",
    "s = json.dumps(s, indent = 4)\n",
    "\n",
    "b = s.encode(\"UTF-8\")\n",
    "e = base64.b64encode(b)\n",
    "argv = e.decode(\"UTF-8\")\n",
    "print(argv)"
   ]
  },
  {
   "cell_type": "code",
   "execution_count": 2,
   "metadata": {},
   "outputs": [],
   "source": [
    "from parser_tool import ParserTool"
   ]
  },
  {
   "cell_type": "code",
   "execution_count": 3,
   "metadata": {},
   "outputs": [
    {
     "name": "stdout",
     "output_type": "stream",
     "text": [
      "Copyright (c) 2021 Servtech Co., Ltd. All Rights Reserved.\n",
      "\n",
      "Running ParserTool-1.2.20220223\n",
      "Loading data and check head format... OK\n",
      "Analyzing:|########################################|100.0%\n",
      "Saving train.csv and train.json\n",
      "Parsing successfully completed\n",
      "Completed.\n"
     ]
    }
   ],
   "source": [
    "self = ParserTool(argv)"
   ]
  },
  {
   "cell_type": "code",
   "execution_count": null,
   "metadata": {},
   "outputs": [],
   "source": []
  },
  {
   "cell_type": "code",
   "execution_count": null,
   "metadata": {},
   "outputs": [],
   "source": []
  },
  {
   "cell_type": "code",
   "execution_count": null,
   "metadata": {},
   "outputs": [],
   "source": []
  },
  {
   "cell_type": "code",
   "execution_count": null,
   "metadata": {},
   "outputs": [],
   "source": [
    "import pandas as pd\n",
    "\n",
    "df = pd.read_csv(\"../data/servtech/p00001/FileUploadArea/Tabular/temp/train.csv\")\n",
    "df"
   ]
  },
  {
   "cell_type": "code",
   "execution_count": null,
   "metadata": {},
   "outputs": [],
   "source": []
  }
 ],
 "metadata": {
  "kernelspec": {
   "display_name": ".venv",
   "language": "python",
   "name": "python3"
  },
  "language_info": {
   "codemirror_mode": {
    "name": "ipython",
    "version": 3
   },
   "file_extension": ".py",
   "mimetype": "text/x-python",
   "name": "python",
   "nbconvert_exporter": "python",
   "pygments_lexer": "ipython3",
   "version": "3.8.10"
  },
  "orig_nbformat": 4,
  "vscode": {
   "interpreter": {
    "hash": "6a07fcf0145f94b3f971c13d061528107de20ab7b779375f96dab9bbac6a85db"
   }
  }
 },
 "nbformat": 4,
 "nbformat_minor": 2
}
