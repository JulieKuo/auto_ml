{
 "cells": [
  {
   "cell_type": "code",
   "execution_count": 1,
   "metadata": {},
   "outputs": [
    {
     "name": "stdout",
     "output_type": "stream",
     "text": [
      "python run.py \"ewogICAgImRhdGEiOiB7CiAgICAgICAgIm1vZGUiOiAiZGF0YV9sZWFrYWdlIiwKICAgICAgICAiZmlsZV9uYW1lIjogWwogICAgICAgICAgICAibG9uZ19jaGVuZy5jc3YiCiAgICAgICAgXSwKICAgICAgICAibmV3X25hbWUiOiBbCiAgICAgICAgICAgICJsZWFrYWdlLmNzdiIKICAgICAgICBdLAogICAgICAgICJjb2x1bW5fc29ydCI6IFsKICAgICAgICAgICAgIjJfVHVyYmluZV9OZWdhdGl2ZV9QcmVzc3VyZS4xIiwKICAgICAgICAgICAgIjNfVmFjdXVtX1B1bXBfTW90b3JfU2lkZV9WaWJyYXRpb24iCiAgICAgICAgXSwKICAgICAgICAicmVtb3ZlX3F1YW50aWxlIjogMC4yNQogICAgfSwKICAgICJ1c2VySWQiOiAic2VydnRlY2guYWlfanVsaWUiLAogICAgImdyb3VwSWQiOiAic2VydnRlY2guYWkiLAogICAgInByb2plY3RJZCI6ICJwMDAyNDUiLAogICAgImpvYl9pZCI6ICIyMDIzMTExMzA2NTYwNzgwOCIKfQ==\"\n"
     ]
    }
   ],
   "source": [
    "import json, base64\n",
    "s = {\n",
    "   \"data\":{\n",
    "      \"mode\": \"data_leakage\",\n",
    "      \"file_name\": [\"long_cheng.csv\"],\n",
    "      \"new_name\": [\"leakage.csv\"],\n",
    "      \"column_sort\": [\"2_Turbine_Negative_Pressure.1\", \"3_Vacuum_Pump_Motor_Side_Vibration\"],\n",
    "      \"remove_quantile\": 0.25,\n",
    "   },\n",
    "   \"userId\": \"servtech.ai_julie\",\n",
    "   \"groupId\": \"servtech.ai\",\n",
    "   \"projectId\": \"p00245\",\n",
    "   \"job_id\": \"20231113065607808\"\n",
    "}\n",
    "s1 = json.dumps(s, indent = 4)\n",
    "\n",
    "b = s1.encode(\"UTF-8\")\n",
    "e = base64.b64encode(b)\n",
    "argv = e.decode(\"UTF-8\")\n",
    "\n",
    "print(f'python run.py \"{argv}\"')"
   ]
  }
 ],
 "metadata": {
  "kernelspec": {
   "display_name": ".venv",
   "language": "python",
   "name": "python3"
  },
  "language_info": {
   "codemirror_mode": {
    "name": "ipython",
    "version": 3
   },
   "file_extension": ".py",
   "mimetype": "text/x-python",
   "name": "python",
   "nbconvert_exporter": "python",
   "pygments_lexer": "ipython3",
   "version": "3.8.10"
  },
  "orig_nbformat": 4,
  "vscode": {
   "interpreter": {
    "hash": "6a07fcf0145f94b3f971c13d061528107de20ab7b779375f96dab9bbac6a85db"
   }
  }
 },
 "nbformat": 4,
 "nbformat_minor": 2
}
