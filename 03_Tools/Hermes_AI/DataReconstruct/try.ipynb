{
 "cells": [
  {
   "cell_type": "code",
   "execution_count": null,
   "metadata": {},
   "outputs": [],
   "source": [
    "import json, base64\n",
    "s = {\n",
    "   \"data\":{\n",
    "      \"mode\": \"split\", # data_leakage\n",
    "      \"file_name\": [\"iris.csv\"],\n",
    "      \"new_name\": [\"iris1.csv\", \"iris2.csv\"],\n",
    "      \"split_size\": 0.3,\n",
    "      \"shuffle\": True,\n",
    "      \"stratify\": [\"target\"], # TODO: 新增參數 - 切割後該欄位的各個類別的比例相同([]；[\"target\"])\n",
    "      \"column_remain\": [\"sepal_length\", \"sepal_width\", \"target\"],\n",
    "      \"column_sort\": [\"date\", \"time\"],# TODO: 新增參數 - 欄位排序順序([]:以最前面的datetime排序；[\"date\", \"time\", \"period\"]: 按指定順序排序)\n",
    "      \"remove_quantile\": 0.25, # TODO: 新增參數 - 刪除低於__的分位距資料(float: 0 ~ 1)\n",
    "   },\n",
    "   \"job_id\": \"20230620073640004\",\n",
    "   \"groupId\": \"servtech.ai\",\n",
    "   \"userId\": \"servtech.ai_julie\",\n",
    "   \"projectId\": \"p00226\",\n",
    "}\n",
    "s1 = json.dumps(s, indent = 4)\n",
    "\n",
    "b = s1.encode(\"UTF-8\")\n",
    "e = base64.b64encode(b)\n",
    "argv = e.decode(\"UTF-8\")\n",
    "print(argv)"
   ]
  },
  {
   "cell_type": "code",
   "execution_count": null,
   "metadata": {},
   "outputs": [],
   "source": [
    "import json, base64\n",
    "s = {\n",
    "   \"data\":{\n",
    "      \"mode\": \"data_leakage\", # data_leakage\n",
    "      \"file_name\": [\"iris_time.csv\"],\n",
    "      \"new_name\": [\"iris_time1.csv\"],\n",
    "      \"split_size\": 0.3,\n",
    "      \"shuffle\": True,\n",
    "      \"stratify\": [\"target\"], # TODO: 新增參數 - 切割後該欄位的各個類別的比例相同([]；[\"target\"])\n",
    "      \"column_remain\": [\"sepal_length\", \"sepal_width\", \"target\"],\n",
    "      \"column_sort\": [\"date\", \"time\"],# TODO: 新增參數 - 欄位排序順序([]:以最前面的datetime排序；[\"date\", \"time\", \"period\"]: 按指定順序排序)\n",
    "      \"remove_quantile\": 0.25, # TODO: 新增參數 - 刪除低於__的分位距資料(float: 0 ~ 1)\n",
    "   },\n",
    "   \"job_id\": \"20230620073640004\",\n",
    "   \"groupId\": \"servtech.ai\",\n",
    "   \"userId\": \"servtech.ai_julie\",\n",
    "   \"projectId\": \"p00226\",\n",
    "}\n",
    "s1 = json.dumps(s, indent = 4)\n",
    "\n",
    "b = s1.encode(\"UTF-8\")\n",
    "e = base64.b64encode(b)\n",
    "argv = e.decode(\"UTF-8\")\n",
    "print(argv)"
   ]
  },
  {
   "cell_type": "code",
   "execution_count": null,
   "metadata": {},
   "outputs": [],
   "source": []
  },
  {
   "cell_type": "code",
   "execution_count": 2,
   "metadata": {},
   "outputs": [
    {
     "name": "stdout",
     "output_type": "stream",
     "text": [
      "Copyright (c) 2021 Servtech Co., Ltd. All Rights Reserved.\n",
      "\n",
      "Running DataReconstruct-1.0.20220223\n",
      "Completed.\n"
     ]
    }
   ],
   "source": [
    "from run import DataReconstruct\n",
    "\n",
    "self = DataReconstruct(argv)\n",
    "# 資料庫出錯表示重複寫入，先刪除a_application_job_use_capacity資料表的job_id=20201117171442561的資料"
   ]
  },
  {
   "cell_type": "code",
   "execution_count": null,
   "metadata": {},
   "outputs": [],
   "source": []
  },
  {
   "cell_type": "code",
   "execution_count": null,
   "metadata": {},
   "outputs": [],
   "source": []
  },
  {
   "cell_type": "code",
   "execution_count": null,
   "metadata": {},
   "outputs": [],
   "source": []
  },
  {
   "cell_type": "code",
   "execution_count": null,
   "metadata": {},
   "outputs": [],
   "source": [
    "import pandas as pd\n",
    "\n",
    "path = r\"C:\\Users\\tzuli\\Documents\\python\\1_AI\\data\\servtech\\p00021\\Tabular\\AfterLabelMerge\\data.csv\"\n",
    "df = pd.read_csv(path)\n",
    "df"
   ]
  },
  {
   "cell_type": "code",
   "execution_count": null,
   "metadata": {},
   "outputs": [],
   "source": []
  }
 ],
 "metadata": {
  "kernelspec": {
   "display_name": ".venv",
   "language": "python",
   "name": "python3"
  },
  "language_info": {
   "codemirror_mode": {
    "name": "ipython",
    "version": 3
   },
   "file_extension": ".py",
   "mimetype": "text/x-python",
   "name": "python",
   "nbconvert_exporter": "python",
   "pygments_lexer": "ipython3",
   "version": "3.8.10"
  },
  "orig_nbformat": 4,
  "vscode": {
   "interpreter": {
    "hash": "6a07fcf0145f94b3f971c13d061528107de20ab7b779375f96dab9bbac6a85db"
   }
  }
 },
 "nbformat": 4,
 "nbformat_minor": 2
}
