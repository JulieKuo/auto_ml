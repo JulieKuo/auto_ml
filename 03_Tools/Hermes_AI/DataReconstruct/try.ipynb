{
 "cells": [
  {
   "cell_type": "code",
   "execution_count": 1,
   "metadata": {},
   "outputs": [
    {
     "name": "stdout",
     "output_type": "stream",
     "text": [
      "python run.py \"ewogICAgImRhdGEiOiB7CiAgICAgICAgIm1vZGUiOiAic3BsaXQiLAogICAgICAgICJmaWxlX25hbWUiOiBbCiAgICAgICAgICAgICJpcmlzLmNzdiIKICAgICAgICBdLAogICAgICAgICJuZXdfbmFtZSI6IFsKICAgICAgICAgICAgImlyaXMxLmNzdiIsCiAgICAgICAgICAgICJpcmlzMi5jc3YiCiAgICAgICAgXSwKICAgICAgICAic3BsaXRfc2l6ZSI6IDAuMywKICAgICAgICAic2h1ZmZsZSI6IHRydWUsCiAgICAgICAgInN0cmF0aWZ5IjogWwogICAgICAgICAgICAidGFyZ2V0IgogICAgICAgIF0sCiAgICAgICAgImNvbHVtbl9yZW1haW4iOiBbCiAgICAgICAgICAgICJzZXBhbF9sZW5ndGgiLAogICAgICAgICAgICAic2VwYWxfd2lkdGgiLAogICAgICAgICAgICAidGFyZ2V0IgogICAgICAgIF0sCiAgICAgICAgImNvbHVtbl9zb3J0IjogWwogICAgICAgICAgICAiZGF0ZSIsCiAgICAgICAgICAgICJ0aW1lIgogICAgICAgIF0sCiAgICAgICAgInJlbW92ZV9xdWFudGlsZSI6IDAuMjUKICAgIH0sCiAgICAidXNlcklkIjogInNlcnZ0ZWNoLmFpX2p1bGllIiwKICAgICJncm91cElkIjogInNlcnZ0ZWNoLmFpIiwKICAgICJwcm9qZWN0SWQiOiAicDAwMjI2IiwKICAgICJqb2JfaWQiOiAiMjAyMzA4MTQwODIzMzUwOTkiCn0=\"\n"
     ]
    }
   ],
   "source": [
    "import json, base64\n",
    "s = {\n",
    "   \"data\":{\n",
    "      \"mode\": \"split\", # data_leakage\n",
    "      \"file_name\": [\"iris.csv\"],\n",
    "      \"new_name\": [\"iris1.csv\", \"iris2.csv\"],\n",
    "      \"split_size\": 0.3,\n",
    "      \"shuffle\": True,\n",
    "      \"stratify\": [\"target\"], # TODO: 新增參數 - 切割後該欄位的各個類別的比例相同([]；[\"target\"])\n",
    "      \"column_remain\": [\"sepal_length\", \"sepal_width\", \"target\"],\n",
    "      \"column_sort\": [\"date\", \"time\"],# TODO: 新增參數 - 欄位排序順序([]:以最前面的datetime排序；[\"date\", \"time\", \"period\"]: 按指定順序排序)\n",
    "      \"remove_quantile\": 0.25, # TODO: 新增參數 - 刪除低於__的分位距資料(float: 0 ~ 1)\n",
    "   },\n",
    "   \"userId\": \"servtech.ai_julie\",\n",
    "   \"groupId\": \"servtech.ai\",\n",
    "   \"projectId\": \"p00226\",\n",
    "   \"job_id\": \"20230814082335099\"\n",
    "}\n",
    "s1 = json.dumps(s, indent = 4)\n",
    "\n",
    "b = s1.encode(\"UTF-8\")\n",
    "e = base64.b64encode(b)\n",
    "argv = e.decode(\"UTF-8\")\n",
    "\n",
    "print(f'python run.py \"{argv}\"')"
   ]
  },
  {
   "cell_type": "code",
   "execution_count": 2,
   "metadata": {},
   "outputs": [
    {
     "name": "stdout",
     "output_type": "stream",
     "text": [
      "python run.py \"ewogICAgImRhdGEiOiB7CiAgICAgICAgIm1vZGUiOiAiZGF0YV9sZWFrYWdlIiwKICAgICAgICAiZmlsZV9uYW1lIjogWwogICAgICAgICAgICAiaXJpc190aW1lLmNzdiIKICAgICAgICBdLAogICAgICAgICJuZXdfbmFtZSI6IFsKICAgICAgICAgICAgImlyaXNfdGltZTEuY3N2IgogICAgICAgIF0sCiAgICAgICAgInNwbGl0X3NpemUiOiAwLjMsCiAgICAgICAgInNodWZmbGUiOiB0cnVlLAogICAgICAgICJzdHJhdGlmeSI6IFsKICAgICAgICAgICAgInRhcmdldCIKICAgICAgICBdLAogICAgICAgICJjb2x1bW5fcmVtYWluIjogWwogICAgICAgICAgICAic2VwYWxfbGVuZ3RoIiwKICAgICAgICAgICAgInNlcGFsX3dpZHRoIiwKICAgICAgICAgICAgInRhcmdldCIKICAgICAgICBdLAogICAgICAgICJjb2x1bW5fc29ydCI6IFsKICAgICAgICAgICAgImRhdGUiLAogICAgICAgICAgICAidGltZSIKICAgICAgICBdLAogICAgICAgICJyZW1vdmVfcXVhbnRpbGUiOiAwLjI1CiAgICB9LAogICAgInVzZXJJZCI6ICJzZXJ2dGVjaC5haV9qdWxpZSIsCiAgICAiZ3JvdXBJZCI6ICJzZXJ2dGVjaC5haSIsCiAgICAicHJvamVjdElkIjogInAwMDIyNiIsCiAgICAiam9iX2lkIjogIjIwMjMwODE0MDgyMzM1MDk5Igp9\"\n"
     ]
    }
   ],
   "source": [
    "import json, base64\n",
    "s = {\n",
    "   \"data\":{\n",
    "      \"mode\": \"data_leakage\", # data_leakage\n",
    "      \"file_name\": [\"iris_time.csv\"],\n",
    "      \"new_name\": [\"iris_time1.csv\"],\n",
    "      \"split_size\": 0.3,\n",
    "      \"shuffle\": True,\n",
    "      \"stratify\": [\"target\"], # TODO: 新增參數 - 切割後該欄位的各個類別的比例相同([]；[\"target\"])\n",
    "      \"column_remain\": [\"sepal_length\", \"sepal_width\", \"target\"],\n",
    "      \"column_sort\": [\"date\", \"time\"],# TODO: 新增參數 - 欄位排序順序([]:以最前面的datetime排序；[\"date\", \"time\", \"period\"]: 按指定順序排序)\n",
    "      \"remove_quantile\": 0.25, # TODO: 新增參數 - 刪除低於__的分位距資料(float: 0 ~ 1)\n",
    "   },\n",
    "   \"userId\": \"servtech.ai_julie\",\n",
    "   \"groupId\": \"servtech.ai\",\n",
    "   \"projectId\": \"p00226\",\n",
    "   \"job_id\": \"20230814082335099\"\n",
    "}\n",
    "s1 = json.dumps(s, indent = 4)\n",
    "\n",
    "b = s1.encode(\"UTF-8\")\n",
    "e = base64.b64encode(b)\n",
    "argv = e.decode(\"UTF-8\")\n",
    "\n",
    "print(f'python run.py \"{argv}\"')"
   ]
  },
  {
   "cell_type": "markdown",
   "metadata": {},
   "source": [
    "### 榮成測試"
   ]
  },
  {
   "cell_type": "code",
   "execution_count": 3,
   "metadata": {},
   "outputs": [
    {
     "name": "stdout",
     "output_type": "stream",
     "text": [
      "python run.py \"ewogICAgImRhdGEiOiB7CiAgICAgICAgIm1vZGUiOiAic3BsaXQiLAogICAgICAgICJmaWxlX25hbWUiOiBbCiAgICAgICAgICAgICJsb25nX2NoZW5nLmNzdiIKICAgICAgICBdLAogICAgICAgICJuZXdfbmFtZSI6IFsKICAgICAgICAgICAgInRyYWluLmNzdiIsCiAgICAgICAgICAgICJ0ZXN0LmNzdiIKICAgICAgICBdLAogICAgICAgICJzcGxpdF9zaXplIjogMC4zLAogICAgICAgICJzaHVmZmxlIjogZmFsc2UKICAgIH0sCiAgICAidXNlcklkIjogInNlcnZ0ZWNoLmFpX2p1bGllIiwKICAgICJncm91cElkIjogInNlcnZ0ZWNoLmFpIiwKICAgICJwcm9qZWN0SWQiOiAicDAwMjI2IiwKICAgICJqb2JfaWQiOiAiMjAyMzA4MTQwODIzMzUwOTkiCn0=\"\n"
     ]
    }
   ],
   "source": [
    "import json, base64\n",
    "s = {\n",
    "   \"data\":{\n",
    "      \"mode\": \"split\",\n",
    "      \"file_name\": [\"long_cheng.csv\"],\n",
    "      \"new_name\": [\"train.csv\", \"test.csv\"],\n",
    "      \"split_size\": 0.3,\n",
    "      \"shuffle\": False,\n",
    "   },\n",
    "   \"userId\": \"servtech.ai_julie\",\n",
    "   \"groupId\": \"servtech.ai\",\n",
    "   \"projectId\": \"p00226\",\n",
    "   \"job_id\": \"20230814082335099\"\n",
    "}\n",
    "s1 = json.dumps(s, indent = 4)\n",
    "\n",
    "b = s1.encode(\"UTF-8\")\n",
    "e = base64.b64encode(b)\n",
    "argv = e.decode(\"UTF-8\")\n",
    "\n",
    "print(f'python run.py \"{argv}\"')"
   ]
  },
  {
   "cell_type": "code",
   "execution_count": 4,
   "metadata": {},
   "outputs": [
    {
     "name": "stdout",
     "output_type": "stream",
     "text": [
      "python run.py \"ewogICAgImRhdGEiOiB7CiAgICAgICAgIm1vZGUiOiAic3BsaXQiLAogICAgICAgICJmaWxlX25hbWUiOiBbCiAgICAgICAgICAgICJsb25nX2NoZW5nLmNzdiIKICAgICAgICBdLAogICAgICAgICJuZXdfbmFtZSI6IFsKICAgICAgICAgICAgInRyYWluX3NodWZmbGUuY3N2IiwKICAgICAgICAgICAgInRlc3Rfc2h1ZmZsZS5jc3YiCiAgICAgICAgXSwKICAgICAgICAic3BsaXRfc2l6ZSI6IDAuMywKICAgICAgICAic2h1ZmZsZSI6IHRydWUKICAgIH0sCiAgICAidXNlcklkIjogInNlcnZ0ZWNoLmFpX2p1bGllIiwKICAgICJncm91cElkIjogInNlcnZ0ZWNoLmFpIiwKICAgICJwcm9qZWN0SWQiOiAicDAwMjI2IiwKICAgICJqb2JfaWQiOiAiMjAyMzA4MTQwODIzMzUwOTkiCn0=\"\n"
     ]
    }
   ],
   "source": [
    "import json, base64\n",
    "s = {\n",
    "   \"data\":{\n",
    "      \"mode\": \"split\",\n",
    "      \"file_name\": [\"long_cheng.csv\"],\n",
    "      \"new_name\": [\"train_shuffle.csv\", \"test_shuffle.csv\"],\n",
    "      \"split_size\": 0.3,\n",
    "      \"shuffle\": True,\n",
    "   },\n",
    "   \"userId\": \"servtech.ai_julie\",\n",
    "   \"groupId\": \"servtech.ai\",\n",
    "   \"projectId\": \"p00226\",\n",
    "   \"job_id\": \"20230814082335099\"\n",
    "}\n",
    "s1 = json.dumps(s, indent = 4)\n",
    "\n",
    "b = s1.encode(\"UTF-8\")\n",
    "e = base64.b64encode(b)\n",
    "argv = e.decode(\"UTF-8\")\n",
    "\n",
    "print(f'python run.py \"{argv}\"')"
   ]
  }
 ],
 "metadata": {
  "kernelspec": {
   "display_name": ".venv",
   "language": "python",
   "name": "python3"
  },
  "language_info": {
   "codemirror_mode": {
    "name": "ipython",
    "version": 3
   },
   "file_extension": ".py",
   "mimetype": "text/x-python",
   "name": "python",
   "nbconvert_exporter": "python",
   "pygments_lexer": "ipython3",
   "version": "3.8.10"
  },
  "orig_nbformat": 4,
  "vscode": {
   "interpreter": {
    "hash": "6a07fcf0145f94b3f971c13d061528107de20ab7b779375f96dab9bbac6a85db"
   }
  }
 },
 "nbformat": 4,
 "nbformat_minor": 2
}
