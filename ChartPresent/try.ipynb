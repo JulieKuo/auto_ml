{
 "cells": [
  {
   "cell_type": "code",
   "execution_count": 2,
   "metadata": {},
   "outputs": [
    {
     "name": "stdout",
     "output_type": "stream",
     "text": [
      "python run.py \"eyJmaWxlTmFtZXMiOiBbInRyYWluLmNzdiIsICJ0ZXN0LmNzdiJdLCAidGFyZ2V0IjogIkhvdXJseV9Qcm9kdWN0aW9uIiwgInVzZXJJZCI6ICJzZXJ2dGVjaC5haV9qdWxpZSIsICJncm91cElkIjogInNlcnZ0ZWNoLmFpIiwgInByb2plY3RJZCI6ICJwMDAyNDUiLCAiam9iX2lkIjogIjIwMjMxMTEzMTUwMDAwMDAwIn0=\"\n"
     ]
    }
   ],
   "source": [
    "import json, base64\n",
    "s = {\n",
    "    \"fileNames\": [\"train.csv\", \"test.csv\"],\n",
    "    \"target\": \"Hourly_Production\",\n",
    "    \"userId\": \"servtech.ai_julie\",\n",
    "    \"groupId\": \"servtech.ai\",\n",
    "    \"projectId\": \"p00245\",\n",
    "    \"job_id\": \"20231113150000000\"\n",
    "}\n",
    "s = json.dumps(s)\n",
    "\n",
    "b = s.encode(\"UTF-8\")\n",
    "e = base64.b64encode(b)\n",
    "argv = e.decode(\"UTF-8\")\n",
    "\n",
    "print(f'python run.py \"{argv}\"')"
   ]
  },
  {
   "cell_type": "markdown",
   "metadata": {},
   "source": [
    "import redis\n",
    "r = redis.Redis(host='127.0.0.1', port=6379, decode_responses=True)\n",
    "r.set(\"ChartPresent_percent\", 0.9)\n",
    "r.get('ChartPresent_percent')"
   ]
  }
 ],
 "metadata": {
  "kernelspec": {
   "display_name": ".venv",
   "language": "python",
   "name": "python3"
  },
  "language_info": {
   "codemirror_mode": {
    "name": "ipython",
    "version": 3
   },
   "file_extension": ".py",
   "mimetype": "text/x-python",
   "name": "python",
   "nbconvert_exporter": "python",
   "pygments_lexer": "ipython3",
   "version": "3.8.10"
  },
  "orig_nbformat": 4
 },
 "nbformat": 4,
 "nbformat_minor": 2
}
