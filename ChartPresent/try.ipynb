{
 "cells": [
  {
   "cell_type": "code",
   "execution_count": 1,
   "metadata": {},
   "outputs": [
    {
     "name": "stdout",
     "output_type": "stream",
     "text": [
      "python run.py \"eyJmaWxlTmFtZXMiOiBbInRyYWluLmNzdiIsICJ0ZXN0LmNzdiJdLCAidXNlcklkIjogInNlcnZ0ZWNoLmFpX2p1bGllIiwgImdyb3VwSWQiOiAic2VydnRlY2guYWkiLCAicHJvamVjdElkIjogInAwMDIyNiIsICJqb2JfaWQiOiAiMjAyMzA4MTQwODIzMzUwOTkifQ==\"\n"
     ]
    }
   ],
   "source": [
    "import json, base64\n",
    "s = {\n",
    "    \"fileNames\": [\"train.csv\", \"test.csv\"],\n",
    "    \"userId\": \"servtech.ai_julie\",\n",
    "    \"groupId\": \"servtech.ai\",\n",
    "    \"projectId\": \"p00226\",\n",
    "    \"job_id\": \"20230814082335099\"\n",
    "}\n",
    "s = json.dumps(s)\n",
    "\n",
    "b = s.encode(\"UTF-8\")\n",
    "e = base64.b64encode(b)\n",
    "argv = e.decode(\"UTF-8\")\n",
    "\n",
    "print(f'python run.py \"{argv}\"')"
   ]
  }
 ],
 "metadata": {
  "kernelspec": {
   "display_name": ".venv",
   "language": "python",
   "name": "python3"
  },
  "language_info": {
   "codemirror_mode": {
    "name": "ipython",
    "version": 3
   },
   "file_extension": ".py",
   "mimetype": "text/x-python",
   "name": "python",
   "nbconvert_exporter": "python",
   "pygments_lexer": "ipython3",
   "version": "3.8.10"
  },
  "orig_nbformat": 4
 },
 "nbformat": 4,
 "nbformat_minor": 2
}
