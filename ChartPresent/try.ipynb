{
 "cells": [
  {
   "cell_type": "code",
   "execution_count": 1,
   "metadata": {},
   "outputs": [
    {
     "name": "stdout",
     "output_type": "stream",
     "text": [
      "python run.py \"eyJmaWxlTmFtZXMiOiBbInRyYWluLmNzdiIsICJ0ZXN0LmNzdiJdLCAidXNlcklkIjogInNlcnZ0ZWNoLmFpX2p1bGllIiwgImdyb3VwSWQiOiAic2VydnRlY2guYWkiLCAicHJvamVjdElkIjogInAwMDIyNiIsICJqb2JfaWQiOiAiMjAyMzA4MTQwODIzMzUwOTkifQ==\"\n"
     ]
    }
   ],
   "source": [
    "import json, base64\n",
    "s = {\n",
    "    \"fileNames\": [\"train.csv\", \"test.csv\"],\n",
    "    \"userId\": \"servtech.ai_julie\",\n",
    "    \"groupId\": \"servtech.ai\",\n",
    "    \"projectId\": \"p00226\",\n",
    "    \"job_id\": \"20230814082335099\"\n",
    "}\n",
    "s = json.dumps(s)\n",
    "\n",
    "b = s.encode(\"UTF-8\")\n",
    "e = base64.b64encode(b)\n",
    "argv = e.decode(\"UTF-8\")\n",
    "\n",
    "print(f'python run.py \"{argv}\"')"
   ]
  },
  {
   "cell_type": "code",
   "execution_count": null,
   "metadata": {},
   "outputs": [],
   "source": []
  },
  {
   "cell_type": "code",
   "execution_count": 2,
   "metadata": {},
   "outputs": [
    {
     "name": "stdout",
     "output_type": "stream",
     "text": [
      "python run.py \"eyJmaWxlTmFtZXMiOiBbImhvc29uZy5jc3YiXSwgInVzZXJJZCI6ICJzZXJ2dGVjaC5haV9qdWxpZSIsICJncm91cElkIjogInNlcnZ0ZWNoLmFpIiwgInByb2plY3RJZCI6ICJwMDAyMjYiLCAiam9iX2lkIjogIjIwMjMwODE0MDgyMzM1MDk5In0=\"\n"
     ]
    }
   ],
   "source": [
    "import json, base64\n",
    "s = {\n",
    "    \"fileNames\": [\"hosong.csv\"],\n",
    "    \"userId\": \"servtech.ai_julie\",\n",
    "    \"groupId\": \"servtech.ai\",\n",
    "    \"projectId\": \"p00226\",\n",
    "    \"job_id\": \"20230814082335099\"\n",
    "}\n",
    "s = json.dumps(s)\n",
    "\n",
    "b = s.encode(\"UTF-8\")\n",
    "e = base64.b64encode(b)\n",
    "argv = e.decode(\"UTF-8\")\n",
    "\n",
    "print(f'python run.py \"{argv}\"')"
   ]
  },
  {
   "cell_type": "code",
   "execution_count": null,
   "metadata": {},
   "outputs": [],
   "source": []
  },
  {
   "cell_type": "code",
   "execution_count": 3,
   "metadata": {},
   "outputs": [],
   "source": [
    "import redis, os\n",
    "root = r\"C:\\Users\\tzuli\\Documents\\python\\1_AI\\ChartPresent\"\n",
    "with open(os.path.join(root, \"config.json\")) as f:\n",
    "    config = json.load(f)\n",
    "    \n",
    "r = redis.Redis(host = config[\"REDIS_CONFIG\"][\"host\"], port = config[\"REDIS_CONFIG\"][\"port\"])\n",
    "# r.set('ChartPresent_percent', 0.1)"
   ]
  },
  {
   "cell_type": "code",
   "execution_count": 4,
   "metadata": {},
   "outputs": [
    {
     "data": {
      "text/plain": [
       "b'1'"
      ]
     },
     "execution_count": 4,
     "metadata": {},
     "output_type": "execute_result"
    }
   ],
   "source": [
    "r.get('ChartPresent_percent')"
   ]
  },
  {
   "cell_type": "code",
   "execution_count": null,
   "metadata": {},
   "outputs": [],
   "source": []
  }
 ],
 "metadata": {
  "kernelspec": {
   "display_name": ".venv",
   "language": "python",
   "name": "python3"
  },
  "language_info": {
   "codemirror_mode": {
    "name": "ipython",
    "version": 3
   },
   "file_extension": ".py",
   "mimetype": "text/x-python",
   "name": "python",
   "nbconvert_exporter": "python",
   "pygments_lexer": "ipython3",
   "version": "3.8.10"
  },
  "orig_nbformat": 4
 },
 "nbformat": 4,
 "nbformat_minor": 2
}
