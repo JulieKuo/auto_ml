{
 "cells": [
  {
   "cell_type": "code",
   "execution_count": 1,
   "metadata": {},
   "outputs": [
    {
     "name": "stdout",
     "output_type": "stream",
     "text": [
      "python run.py \"eyJmaWxlTmFtZXMiOiBbInRyYWluLmNzdiIsICJ0ZXN0LmNzdiJdLCAidGFyZ2V0IjogIkhvdXJseV9Qcm9kdWN0aW9uIiwgInVzZXJJZCI6ICJzZXJ2dGVjaC5haV9qdWxpZSIsICJncm91cElkIjogInNlcnZ0ZWNoLmFpIiwgInByb2plY3RJZCI6ICJwMDAyMjYiLCAiam9iX2lkIjogIjIwMjMwODE0MDgyMzM1MDk5In0=\"\n"
     ]
    }
   ],
   "source": [
    "import json, base64\n",
    "s = {\n",
    "    \"fileNames\": [\"train.csv\", \"test.csv\"],\n",
    "    \"target\": \"Hourly_Production\",\n",
    "    \"userId\": \"servtech.ai_julie\",\n",
    "    \"groupId\": \"servtech.ai\",\n",
    "    \"projectId\": \"p00226\",\n",
    "    \"job_id\": \"20230814082335099\"\n",
    "}\n",
    "s = json.dumps(s)\n",
    "\n",
    "b = s.encode(\"UTF-8\")\n",
    "e = base64.b64encode(b)\n",
    "argv = e.decode(\"UTF-8\")\n",
    "\n",
    "print(f'python run.py \"{argv}\"')"
   ]
  },
  {
   "cell_type": "code",
   "execution_count": 2,
   "metadata": {},
   "outputs": [],
   "source": [
    "import pandas as pd\n",
    "from tools import *\n",
    "from plot import *\n",
    "from descript import *\n",
    "from traceback import format_exc\n",
    "from log_config import Log\n",
    "from datetime import datetime\n",
    "import os, json, sys, base64, shutil, redis\n",
    "\n",
    "root    = r\"C:\\Users\\tzuli\\Documents\\python\\1_AI\\ChartPresent\"\n",
    "\n",
    "log = Log()\n",
    "log_path = os.path.join(root, \"logs\")\n",
    "os.makedirs(log_path, exist_ok = True)\n",
    "date = datetime.now().strftime(\"%Y%m%d\")\n",
    "logging = log.set_log(filepath = os.path.join(log_path, f\"{date}.log\"), level = 2, freq = \"D\", interval = 1, backup = 0, name = \"log\")\n",
    "logging.info(\"-\" * 200)"
   ]
  },
  {
   "cell_type": "code",
   "execution_count": 3,
   "metadata": {},
   "outputs": [],
   "source": [
    "# get parameters\n",
    "input_ = argv\n",
    "input_ = base64.b64decode(input_).decode(\"utf-8\")\n",
    "input_ = json.loads(input_)\n",
    "logging.info(f\"input = {input_}\")\n",
    "\n",
    "\n",
    "# get config data\n",
    "with open(os.path.join(root, \"config.json\")) as f:\n",
    "    config = json.load(f)\n",
    "\n",
    "\n",
    "# set redis to pass progress\n",
    "r = redis.Redis(host = config[\"REDIS_CONFIG\"][\"host\"], port = config[\"REDIS_CONFIG\"][\"port\"])\n",
    "\n",
    "\n",
    "# get files path and parsers path\n",
    "file_names, file_paths, parser_paths = get_path(input_, config)\n",
    "\n",
    "\n",
    "# create folders to save charts\n",
    "chart_path = create_folder(input_, config)\n",
    "logging.info(f\"save charts to {chart_path}\")\n",
    "\n",
    "\n",
    "# get datas and features\n",
    "dfs, numericals, categories = get_df_feat(file_paths, parser_paths)\n",
    "\n",
    "\n",
    "if (len(file_names) == 2):\n",
    "    assert ((numericals[0] == numericals[1]) and (categories[0] == categories[1])), \"The features of the two datasets are different.\"\n",
    "\n",
    "\n",
    "# TODO: delete\n",
    "feats = [\"1_Turbine_Negative_Pressure.1\", \"2_Turbine_Negative_Pressure.1\", \"3_Vacuum_Pump_Motor_Side_Vibration\", \"4_Turbine_Negative_Pressure.1\"]\n",
    "for feat in feats:\n",
    "    numericals[0].remove(feat)\n",
    "    numericals[1].remove(feat)\n",
    "    categories[0].append(feat)\n",
    "    categories[1].append(feat)\n",
    "dfs[0][feats] = dfs[0][feats].astype(object)\n",
    "dfs[1][feats] = dfs[1][feats].astype(object)"
   ]
  },
  {
   "cell_type": "code",
   "execution_count": 4,
   "metadata": {},
   "outputs": [],
   "source": [
    "# create charts\n",
    "logging.info(\"create charts...\")\n",
    "target = input_[\"target\"]\n",
    "top = 30\n",
    "progress = 0\n",
    "progress_gap = (1 / 13) if (len(file_names) == 2) else (1 / 8)\n",
    "for file_name, df, numerical, category in zip(file_names, dfs, numericals, categories):\n",
    "    heatmap(file_name, df, numerical, top, chart_path, target)\n",
    "    progress += progress_gap\n",
    "    r.set(\"ChartPresent_percent\", round(progress, 2))\n",
    "    break"
   ]
  },
  {
   "cell_type": "code",
   "execution_count": null,
   "metadata": {},
   "outputs": [],
   "source": []
  }
 ],
 "metadata": {
  "kernelspec": {
   "display_name": ".venv",
   "language": "python",
   "name": "python3"
  },
  "language_info": {
   "codemirror_mode": {
    "name": "ipython",
    "version": 3
   },
   "file_extension": ".py",
   "mimetype": "text/x-python",
   "name": "python",
   "nbconvert_exporter": "python",
   "pygments_lexer": "ipython3",
   "version": "3.8.10"
  },
  "orig_nbformat": 4
 },
 "nbformat": 4,
 "nbformat_minor": 2
}
