{
 "cells": [
  {
   "cell_type": "code",
   "execution_count": 1,
   "metadata": {},
   "outputs": [
    {
     "name": "stdout",
     "output_type": "stream",
     "text": [
      "python run.py \"eyJmaWxlTmFtZSI6ICJ0cmFpbi5jc3Z8dGVzdC5jc3YiLCAiam9iTmFtZSI6ICJhdXRvZmVhdCIsICJsYWJlbCI6ICJIb3VybHlfUHJvZHVjdGlvbiIsICJ1c2VySWQiOiAic2VydnRlY2guYWlfanVsaWUiLCAiZ3JvdXBJZCI6ICJzZXJ2dGVjaC5haSIsICJwcm9qZWN0SWQiOiAicDAwMjQ1IiwgImpvYl9pZCI6ICIyMDIzMTExMzA2NTYwNzgwOCJ9\"\n"
     ]
    }
   ],
   "source": [
    "import json, base64\n",
    "s = {\n",
    "   \"fileName\": \"train.csv|test.csv\",\n",
    "   \"jobName\": \"autofeat\",\n",
    "   \"label\": \"Hourly_Production\",\n",
    "   \"userId\": \"servtech.ai_julie\",\n",
    "   \"groupId\": \"servtech.ai\",\n",
    "   \"projectId\": \"p00245\",\n",
    "   \"job_id\": \"20231113065607808\"\n",
    "}\n",
    "\n",
    "s = json.dumps(s)\n",
    "\n",
    "b = s.encode(\"UTF-8\")\n",
    "e = base64.b64encode(b)\n",
    "argv = e.decode(\"UTF-8\")\n",
    "\n",
    "print(f'python run.py \"{argv}\"')"
   ]
  }
 ],
 "metadata": {
  "kernelspec": {
   "display_name": ".venv",
   "language": "python",
   "name": "python3"
  },
  "language_info": {
   "codemirror_mode": {
    "name": "ipython",
    "version": 3
   },
   "file_extension": ".py",
   "mimetype": "text/x-python",
   "name": "python",
   "nbconvert_exporter": "python",
   "pygments_lexer": "ipython3",
   "version": "3.8.10"
  },
  "orig_nbformat": 4,
  "vscode": {
   "interpreter": {
    "hash": "6a07fcf0145f94b3f971c13d061528107de20ab7b779375f96dab9bbac6a85db"
   }
  }
 },
 "nbformat": 4,
 "nbformat_minor": 2
}
