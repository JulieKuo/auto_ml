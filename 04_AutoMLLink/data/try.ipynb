{
 "cells": [
  {
   "attachments": {},
   "cell_type": "markdown",
   "metadata": {},
   "source": [
    "### train"
   ]
  },
  {
   "cell_type": "code",
   "execution_count": 1,
   "metadata": {},
   "outputs": [
    {
     "name": "stdout",
     "output_type": "stream",
     "text": [
      "python data_train.py \"eyJmaWxlTmFtZSI6ICJ0cmFpbi5jc3YiLCAibW9kZWxOYW1lIjogIm1vZGVsIiwgInRhcmdldCI6ICJIb3VybHlfUHJvZHVjdGlvbiIsICJtYXhfcnVudGltZV9taW5zIjogMS4wLCAidXNlcklkIjogInNlcnZ0ZWNoLmFpX2p1bGllIiwgImdyb3VwSWQiOiAic2VydnRlY2guYWkiLCAicHJvamVjdElkIjogInAwMDI0NSIsICJqb2JfaWQiOiAiMjAyMzExMTMwNjU2MDc4MDgifQ==\"\n"
     ]
    }
   ],
   "source": [
    "import json, base64\n",
    "s = {\n",
    "    \"fileName\": \"train.csv\",\n",
    "    \"modelName\":\"model\",\n",
    "    'target': 'Hourly_Production',\n",
    "    'max_runtime_mins': 1.0,\n",
    "    \"userId\": \"servtech.ai_julie\",\n",
    "    \"groupId\": \"servtech.ai\",\n",
    "    \"projectId\": \"p00245\",\n",
    "    \"job_id\": \"20231113065607808\"\n",
    "}\n",
    "s = json.dumps(s)\n",
    "\n",
    "b = s.encode(\"UTF-8\")\n",
    "e = base64.b64encode(b)\n",
    "argv = e.decode(\"UTF-8\")\n",
    "\n",
    "print(f'python data_train.py \"{argv}\"')"
   ]
  },
  {
   "attachments": {},
   "cell_type": "markdown",
   "metadata": {},
   "source": [
    "### predict"
   ]
  },
  {
   "cell_type": "code",
   "execution_count": 2,
   "metadata": {},
   "outputs": [
    {
     "name": "stdout",
     "output_type": "stream",
     "text": [
      "python data_predict.py \"eyJmaWxlTmFtZSI6ICJ0ZXN0LmNzdiIsICJtb2RlbE5hbWUiOiAibW9kZWwiLCAidXNlcklkIjogInNlcnZ0ZWNoLmFpX2p1bGllIiwgImdyb3VwSWQiOiAic2VydnRlY2guYWkiLCAicHJvamVjdElkIjogInAwMDI0NSIsICJqb2JfaWQiOiAiMjAyMzExMTMwNjU2MDc4MDgifQ==\"\n"
     ]
    }
   ],
   "source": [
    "import json, base64\n",
    "s = {\n",
    "    \"fileName\": \"test.csv\",\n",
    "    'modelName': \"model\",\n",
    "    \"userId\": \"servtech.ai_julie\",\n",
    "    \"groupId\": \"servtech.ai\",\n",
    "    \"projectId\": \"p00245\",\n",
    "    \"job_id\": \"20231113065607808\"\n",
    "    }\n",
    "s = json.dumps(s)\n",
    "\n",
    "b = s.encode(\"UTF-8\")\n",
    "e = base64.b64encode(b)\n",
    "argv = e.decode(\"UTF-8\")\n",
    "\n",
    "print(f'python data_predict.py \"{argv}\"')"
   ]
  },
  {
   "cell_type": "markdown",
   "metadata": {},
   "source": [
    "### cancel train"
   ]
  },
  {
   "cell_type": "code",
   "execution_count": 3,
   "metadata": {},
   "outputs": [
    {
     "name": "stdout",
     "output_type": "stream",
     "text": [
      "python cancel_data_train.py \"eyJtb2RlbE5hbWUiOiAibW9kZWwiLCAiY2FuY2VsX2pvYl9pZCI6ICIyMDIzMDgxNDA4MjMzNTA5OSIsICJ1c2VySWQiOiAic2VydnRlY2guYWlfanVsaWUiLCAiZ3JvdXBJZCI6ICJzZXJ2dGVjaC5haSIsICJwcm9qZWN0SWQiOiAicDAwMjI2IiwgImpvYl9pZCI6ICIyMDIzMDgxNDA4MjMzNTA5OSJ9\"\n"
     ]
    }
   ],
   "source": [
    "import json, base64\n",
    "s = {\n",
    "    \"modelName\":\"model\",\n",
    "    \"cancel_job_id\": \"20230814082335099\",\n",
    "    \"userId\": \"servtech.ai_julie\",\n",
    "    \"groupId\": \"servtech.ai\",\n",
    "    \"projectId\": \"p00245\",\n",
    "    \"job_id\": \"20231113065607808\"\n",
    "}\n",
    "s = json.dumps(s)\n",
    "\n",
    "b = s.encode(\"UTF-8\")\n",
    "e = base64.b64encode(b)\n",
    "argv = e.decode(\"UTF-8\")\n",
    "\n",
    "print(f'python cancel_data_train.py \"{argv}\"')"
   ]
  }
 ],
 "metadata": {
  "kernelspec": {
   "display_name": ".venv",
   "language": "python",
   "name": "python3"
  },
  "language_info": {
   "codemirror_mode": {
    "name": "ipython",
    "version": 3
   },
   "file_extension": ".py",
   "mimetype": "text/x-python",
   "name": "python",
   "nbconvert_exporter": "python",
   "pygments_lexer": "ipython3",
   "version": "3.8.10"
  },
  "orig_nbformat": 4
 },
 "nbformat": 4,
 "nbformat_minor": 2
}
