{
 "cells": [
  {
   "attachments": {},
   "cell_type": "markdown",
   "metadata": {},
   "source": [
    "### train"
   ]
  },
  {
   "cell_type": "code",
   "execution_count": 1,
   "metadata": {},
   "outputs": [
    {
     "name": "stdout",
     "output_type": "stream",
     "text": [
      "python formula_train.py \"eyJmaWxlTmFtZSI6ICJ0cmFpbi5jc3YiLCAibGFiZWwiOiAiSG91cmx5X1Byb2R1Y3Rpb24iLCAibW9kZWxOYW1lIjogImZvcm11bGEiLCAidXNlcklkIjogInNlcnZ0ZWNoLmFpX2p1bGllIiwgImdyb3VwSWQiOiAic2VydnRlY2guYWkiLCAicHJvamVjdElkIjogInAwMDIyNiIsICJqb2JfaWQiOiAiMjAyMzA4MTQwODIzMzUwOTkifQ==\"\n"
     ]
    }
   ],
   "source": [
    "import json, base64\n",
    "s = {\n",
    "   \"fileName\": \"train.csv\",\n",
    "   \"label\": \"Hourly_Production\",\n",
    "   \"modelName\":\"formula\",\n",
    "   \"userId\": \"servtech.ai_julie\",\n",
    "   \"groupId\": \"servtech.ai\",\n",
    "   \"projectId\": \"p00226\",\n",
    "   \"job_id\": \"20230814082335099\",\n",
    "}\n",
    "\n",
    "s = json.dumps(s)\n",
    "\n",
    "b = s.encode(\"UTF-8\")\n",
    "e = base64.b64encode(b)\n",
    "argv = e.decode(\"UTF-8\")\n",
    "\n",
    "print(f'python formula_train.py \"{argv}\"')"
   ]
  },
  {
   "attachments": {},
   "cell_type": "markdown",
   "metadata": {},
   "source": [
    "### predict"
   ]
  },
  {
   "cell_type": "code",
   "execution_count": 3,
   "metadata": {},
   "outputs": [
    {
     "name": "stdout",
     "output_type": "stream",
     "text": [
      "python formula_predict.py \"eyJ1c2VySWQiOiAic2VydnRlY2guYWlfanVsaWUiLCAiZ3JvdXBJZCI6ICJzZXJ2dGVjaC5haSIsICJwcm9qZWN0SWQiOiAicDAwMjI2IiwgImpvYl9pZCI6ICIyMDIzMDgxNDA4MjMzNTA5OSIsICJ0YXJnZXQiOiA0MCwgImZpbGVJZCI6ICIwMDAxIiwgIm1vZGVsTmFtZSI6ICJmb3JtdWxhX3NodWZmbGUifQ==\"\n"
     ]
    }
   ],
   "source": [
    "import json, base64\n",
    "s = {   \n",
    "   \"userId\": \"servtech.ai_julie\",\n",
    "   \"groupId\": \"servtech.ai\",\n",
    "   \"projectId\": \"p00226\",\n",
    "   \"job_id\": \"20230814082335099\",\n",
    "   \"target\": 40,\n",
    "   \"fileId\": \"0001\",\n",
    "   \"modelName\":\"formula_shuffle\",\n",
    "}\n",
    "\n",
    "s = json.dumps(s)\n",
    "\n",
    "b = s.encode(\"UTF-8\")\n",
    "e = base64.b64encode(b)\n",
    "argv = e.decode(\"UTF-8\")\n",
    "\n",
    "print(f'python formula_predict.py \"{argv}\"')"
   ]
  },
  {
   "cell_type": "code",
   "execution_count": null,
   "metadata": {},
   "outputs": [],
   "source": []
  }
 ],
 "metadata": {
  "kernelspec": {
   "display_name": ".venv",
   "language": "python",
   "name": "python3"
  },
  "language_info": {
   "codemirror_mode": {
    "name": "ipython",
    "version": 3
   },
   "file_extension": ".py",
   "mimetype": "text/x-python",
   "name": "python",
   "nbconvert_exporter": "python",
   "pygments_lexer": "ipython3",
   "version": "3.8.10"
  },
  "orig_nbformat": 4
 },
 "nbformat": 4,
 "nbformat_minor": 2
}
