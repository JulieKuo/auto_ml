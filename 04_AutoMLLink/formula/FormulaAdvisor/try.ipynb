{
 "cells": [
  {
   "attachments": {},
   "cell_type": "markdown",
   "metadata": {},
   "source": [
    "### train"
   ]
  },
  {
   "cell_type": "code",
   "execution_count": 1,
   "metadata": {},
   "outputs": [
    {
     "name": "stdout",
     "output_type": "stream",
     "text": [
      "python formula_train.py \"eyJmaWxlTmFtZSI6ICJ0cmFpbi5jc3YiLCAibGFiZWwiOiAiSG91cmx5X1Byb2R1Y3Rpb24iLCAibW9kZWxOYW1lIjogImZvcm11bGEiLCAidXNlcklkIjogInNlcnZ0ZWNoLmFpX2p1bGllIiwgImdyb3VwSWQiOiAic2VydnRlY2guYWkiLCAicHJvamVjdElkIjogInAwMDI0NSIsICJqb2JfaWQiOiAiMjAyMzExMTMwNjU2MDc4MDgifQ==\"\n"
     ]
    }
   ],
   "source": [
    "import json, base64\n",
    "s = {\n",
    "   \"fileName\": \"train.csv\",\n",
    "   \"label\": \"Hourly_Production\",\n",
    "   \"modelName\":\"formula\",\n",
    "   \"userId\": \"servtech.ai_julie\",\n",
    "   \"groupId\": \"servtech.ai\",\n",
    "   \"projectId\": \"p00245\",\n",
    "   \"job_id\": \"20231113065607808\",\n",
    "}\n",
    "\n",
    "s = json.dumps(s)\n",
    "\n",
    "b = s.encode(\"UTF-8\")\n",
    "e = base64.b64encode(b)\n",
    "argv = e.decode(\"UTF-8\")\n",
    "\n",
    "print(f'python formula_train.py \"{argv}\"')"
   ]
  },
  {
   "attachments": {},
   "cell_type": "markdown",
   "metadata": {},
   "source": [
    "### predict"
   ]
  },
  {
   "cell_type": "code",
   "execution_count": 2,
   "metadata": {},
   "outputs": [
    {
     "name": "stdout",
     "output_type": "stream",
     "text": [
      "python formula_predict.py \"eyJ1c2VySWQiOiAic2VydnRlY2guYWlfanVsaWUiLCAiZ3JvdXBJZCI6ICJzZXJ2dGVjaC5haSIsICJwcm9qZWN0SWQiOiAicDAwMjQ1IiwgImpvYl9pZCI6ICIyMDIzMTExMzA2NTYwNzgwOCIsICJ0YXJnZXQiOiA0MCwgImZpbGVJZCI6ICIwMDAxIiwgIm1vZGVsTmFtZSI6ICJmb3JtdWxhIn0=\"\n"
     ]
    }
   ],
   "source": [
    "import json, base64\n",
    "s = {   \n",
    "   \"userId\": \"servtech.ai_julie\",\n",
    "   \"groupId\": \"servtech.ai\",\n",
    "   \"projectId\": \"p00245\",\n",
    "   \"job_id\": \"20231113065607808\",\n",
    "   \"target\": 40,\n",
    "   \"fileId\": \"0001\",\n",
    "   \"modelName\":\"formula\",\n",
    "}\n",
    "\n",
    "s = json.dumps(s)\n",
    "\n",
    "b = s.encode(\"UTF-8\")\n",
    "e = base64.b64encode(b)\n",
    "argv = e.decode(\"UTF-8\")\n",
    "\n",
    "print(f'python formula_predict.py \"{argv}\"')"
   ]
  }
 ],
 "metadata": {
  "kernelspec": {
   "display_name": ".venv",
   "language": "python",
   "name": "python3"
  },
  "language_info": {
   "codemirror_mode": {
    "name": "ipython",
    "version": 3
   },
   "file_extension": ".py",
   "mimetype": "text/x-python",
   "name": "python",
   "nbconvert_exporter": "python",
   "pygments_lexer": "ipython3",
   "version": "3.8.10"
  },
  "orig_nbformat": 4
 },
 "nbformat": 4,
 "nbformat_minor": 2
}
