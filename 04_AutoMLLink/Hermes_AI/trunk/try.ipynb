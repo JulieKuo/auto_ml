{
 "cells": [
  {
   "attachments": {},
   "cell_type": "markdown",
   "metadata": {},
   "source": [
    "### train"
   ]
  },
  {
   "cell_type": "code",
   "execution_count": 1,
   "metadata": {},
   "outputs": [
    {
     "name": "stdout",
     "output_type": "stream",
     "text": [
      "eyJmaWxlTmFtZSI6ICJ0cmFpbl9sLmNzdiIsICJtb2RlbE5hbWUiOiAiMjAyNjA2MjcxMjI2MDAiLCAidGFyZ2V0IjogInRhcmdldCIsICJtYXhfcnVudGltZV9taW5zIjogMS4wLCAidXNlcklkIjogInNlcnZ0ZWNoLmFpX2p1bGllIiwgImdyb3VwSWQiOiAic2VydnRlY2guYWkiLCAicHJvamVjdElkIjogInAwMDIzMyIsICJqb2JfaWQiOiAiMjAyMzA2MjcwNDE0NTQyMjQifQ==\n"
     ]
    }
   ],
   "source": [
    "import json, base64\n",
    "s = {\n",
    "    \"fileName\": \"train_l.csv\",\n",
    "    \"modelName\":\"20260627122600\",\n",
    "    'target': 'target',\n",
    "    'max_runtime_mins': 1.0, #'max_train_time': '01:00', 'fitness_fn_name': 'f1_weighted', 'validation': 'cv_kfold', 'cv_kfold': 3.0, 'recurrent': 'False',\n",
    "    \"userId\": \"servtech.ai_julie\",\n",
    "    \"groupId\": \"servtech.ai\",\n",
    "    \"projectId\": \"p00233\",\n",
    "    \"job_id\": \"20230627041454224\",\n",
    "}\n",
    "s = json.dumps(s)\n",
    "\n",
    "b = s.encode(\"UTF-8\")\n",
    "e = base64.b64encode(b)\n",
    "argv = e.decode(\"UTF-8\")\n",
    "print(argv)"
   ]
  },
  {
   "cell_type": "code",
   "execution_count": 2,
   "metadata": {},
   "outputs": [
    {
     "name": "stdout",
     "output_type": "stream",
     "text": [
      "python data_train.py \"eyJmaWxlTmFtZSI6ICJ0cmFpbl9sLmNzdiIsICJtb2RlbE5hbWUiOiAiMjAyNjA2MjcxMjI2MDAiLCAidGFyZ2V0IjogInRhcmdldCIsICJtYXhfcnVudGltZV9taW5zIjogMS4wLCAidXNlcklkIjogInNlcnZ0ZWNoLmFpX2p1bGllIiwgImdyb3VwSWQiOiAic2VydnRlY2guYWkiLCAicHJvamVjdElkIjogInAwMDIzMyIsICJqb2JfaWQiOiAiMjAyMzA2MjcwNDE0NTQyMjQifQ==\"\n"
     ]
    }
   ],
   "source": [
    "print(f'python data_train.py \"{argv}\"')"
   ]
  },
  {
   "attachments": {},
   "cell_type": "markdown",
   "metadata": {},
   "source": [
    "### predict"
   ]
  },
  {
   "cell_type": "code",
   "execution_count": 3,
   "metadata": {},
   "outputs": [
    {
     "name": "stdout",
     "output_type": "stream",
     "text": [
      "eyJmaWxlTmFtZSI6ICJ0ZXN0X2wuY3N2IiwgIm1vZGVsTmFtZSI6ICIyMDIzMDYxNCIsICJ1c2VySWQiOiAic2VydnRlY2guYWlfanVsaWUiLCAiZ3JvdXBJZCI6ICJzZXJ2dGVjaC5haSIsICJwcm9qZWN0SWQiOiAicDAwMjMzIiwgImpvYl9pZCI6ICIyMDIzMDYyNzA0MTQ1NDIyNCJ9\n"
     ]
    }
   ],
   "source": [
    "import json, base64\n",
    "s = {\n",
    "    'fileName': 'test_l.csv',\n",
    "    'modelName': '20230614',\n",
    "    \"userId\": \"servtech.ai_julie\",\n",
    "    \"groupId\": \"servtech.ai\",\n",
    "    \"projectId\": \"p00233\",\n",
    "    \"job_id\": \"20230627041454224\",\n",
    "    }\n",
    "s = json.dumps(s)\n",
    "\n",
    "b = s.encode(\"UTF-8\")\n",
    "e = base64.b64encode(b)\n",
    "argv = e.decode(\"UTF-8\")\n",
    "print(argv)"
   ]
  },
  {
   "cell_type": "code",
   "execution_count": 4,
   "metadata": {},
   "outputs": [
    {
     "name": "stdout",
     "output_type": "stream",
     "text": [
      "python data_predict.py \"eyJmaWxlTmFtZSI6ICJ0ZXN0X2wuY3N2IiwgIm1vZGVsTmFtZSI6ICIyMDIzMDYxNCIsICJ1c2VySWQiOiAic2VydnRlY2guYWlfanVsaWUiLCAiZ3JvdXBJZCI6ICJzZXJ2dGVjaC5haSIsICJwcm9qZWN0SWQiOiAicDAwMjMzIiwgImpvYl9pZCI6ICIyMDIzMDYyNzA0MTQ1NDIyNCJ9\"\n"
     ]
    }
   ],
   "source": [
    "print(f'python data_predict.py \"{argv}\"')"
   ]
  },
  {
   "cell_type": "markdown",
   "metadata": {},
   "source": [
    "### cancel train"
   ]
  },
  {
   "cell_type": "code",
   "execution_count": 5,
   "metadata": {},
   "outputs": [
    {
     "name": "stdout",
     "output_type": "stream",
     "text": [
      "eyJtb2RlbE5hbWUiOiAiMjAyNjA2MjcxMjI2MDAiLCAiY2FuY2VsX2pvYl9pZCI6ICIyMDIzMDcyMTA0MjYyMjg5NCIsICJqb2JfaWQiOiAiMjAyMzA2MjcwNDE0NTQyMjQiLCAiZ3JvdXBJZCI6ICJzZXJ2dGVjaC5haSIsICJ1c2VySWQiOiAic2VydnRlY2guYWlfanVsaWUiLCAicHJvamVjdElkIjogInAwMDIzMyJ9\n"
     ]
    }
   ],
   "source": [
    "import json, base64\n",
    "s = {\n",
    "    \"modelName\":\"20260627122600\",\n",
    "    \"cancel_job_id\": \"20230721042622894\",\n",
    "    \"job_id\": \"20230627041454224\",\n",
    "    \"groupId\": \"servtech.ai\",\n",
    "    \"userId\": \"servtech.ai_julie\",\n",
    "    \"projectId\": \"p00233\",\n",
    "}\n",
    "s = json.dumps(s)\n",
    "\n",
    "b = s.encode(\"UTF-8\")\n",
    "e = base64.b64encode(b)\n",
    "argv = e.decode(\"UTF-8\")\n",
    "print(argv)"
   ]
  },
  {
   "cell_type": "code",
   "execution_count": 6,
   "metadata": {},
   "outputs": [
    {
     "name": "stdout",
     "output_type": "stream",
     "text": [
      "python cancel_data_train.py \"eyJtb2RlbE5hbWUiOiAiMjAyNjA2MjcxMjI2MDAiLCAiY2FuY2VsX2pvYl9pZCI6ICIyMDIzMDcyMTA0MjYyMjg5NCIsICJqb2JfaWQiOiAiMjAyMzA2MjcwNDE0NTQyMjQiLCAiZ3JvdXBJZCI6ICJzZXJ2dGVjaC5haSIsICJ1c2VySWQiOiAic2VydnRlY2guYWlfanVsaWUiLCAicHJvamVjdElkIjogInAwMDIzMyJ9\"\n"
     ]
    }
   ],
   "source": [
    "print(f'python cancel_data_train.py \"{argv}\"')"
   ]
  },
  {
   "cell_type": "code",
   "execution_count": null,
   "metadata": {},
   "outputs": [],
   "source": []
  },
  {
   "cell_type": "code",
   "execution_count": null,
   "metadata": {},
   "outputs": [],
   "source": []
  }
 ],
 "metadata": {
  "kernelspec": {
   "display_name": ".venv",
   "language": "python",
   "name": "python3"
  },
  "language_info": {
   "codemirror_mode": {
    "name": "ipython",
    "version": 3
   },
   "file_extension": ".py",
   "mimetype": "text/x-python",
   "name": "python",
   "nbconvert_exporter": "python",
   "pygments_lexer": "ipython3",
   "version": "3.8.10"
  },
  "orig_nbformat": 4
 },
 "nbformat": 4,
 "nbformat_minor": 2
}
